{
  "nbformat": 4,
  "nbformat_minor": 0,
  "metadata": {
    "colab": {
      "provenance": []
    },
    "kernelspec": {
      "name": "python3",
      "display_name": "Python 3"
    },
    "language_info": {
      "name": "python"
    }
  },
  "cells": [
    {
      "cell_type": "markdown",
      "source": [
        "1. Reading the CSV File:\n",
        "- Load the provided CSV file into a pandas DataFrame.\n",
        "- Display the first 5 rows of the DataFrame to understand the structure of the data"
      ],
      "metadata": {
        "id": "_v5m5cLiydlB"
      }
    },
    {
      "cell_type": "code",
      "execution_count": 10,
      "metadata": {
        "colab": {
          "base_uri": "https://localhost:8080/",
          "height": 270
        },
        "id": "exKVrV-QyFmy",
        "outputId": "925b6335-b145-4162-ebf6-e626c98a2932"
      },
      "outputs": [
        {
          "output_type": "stream",
          "name": "stdout",
          "text": [
            "2023-24 ACC basketball season:  \n",
            "\n"
          ]
        },
        {
          "output_type": "execute_result",
          "data": {
            "text/plain": [
              "   Rk         Player Class Pos          School   G   MP  TRB  AST  STL  ...  \\\n",
              "0   1   Amaree Abram    SO   G    Georgia Tech  10  108   17   11    1  ...   \n",
              "1   2   Sola Adebisi    FR   F   Florida State   7    9    1    1    0  ...   \n",
              "2   3  Prince Aligbe    SO   F  Boston College  35  651  119   21   15  ...   \n",
              "3   4     Abe Atiyeh    SR   G  Boston College   4    6    0    0    0  ...   \n",
              "4   5    Zack Austin    JR   F      Pittsburgh  33  746  137   29   32  ...   \n",
              "\n",
              "   TOV  PF  PTS    FG%    2P%    3P%    FT%   PER   WS  BPM  \n",
              "0    9  10   34  0.262  0.318  0.200  0.615   4.1 -0.1 -6.4  \n",
              "1    1   1    2  0.500  0.500    NaN    NaN   3.5  0.0 -6.7  \n",
              "2   30  51  164  0.435  0.522  0.147  0.620   9.4  0.9 -1.3  \n",
              "3    1   0    3  0.333  0.000  1.000    NaN   1.1  0.0 -8.2  \n",
              "4   13  35  216  0.417  0.563  0.295  0.737  18.0  2.9  7.9  \n",
              "\n",
              "[5 rows x 21 columns]"
            ],
            "text/html": [
              "\n",
              "  <div id=\"df-954ddcf7-4beb-4930-a602-b539cec65c43\" class=\"colab-df-container\">\n",
              "    <div>\n",
              "<style scoped>\n",
              "    .dataframe tbody tr th:only-of-type {\n",
              "        vertical-align: middle;\n",
              "    }\n",
              "\n",
              "    .dataframe tbody tr th {\n",
              "        vertical-align: top;\n",
              "    }\n",
              "\n",
              "    .dataframe thead th {\n",
              "        text-align: right;\n",
              "    }\n",
              "</style>\n",
              "<table border=\"1\" class=\"dataframe\">\n",
              "  <thead>\n",
              "    <tr style=\"text-align: right;\">\n",
              "      <th></th>\n",
              "      <th>Rk</th>\n",
              "      <th>Player</th>\n",
              "      <th>Class</th>\n",
              "      <th>Pos</th>\n",
              "      <th>School</th>\n",
              "      <th>G</th>\n",
              "      <th>MP</th>\n",
              "      <th>TRB</th>\n",
              "      <th>AST</th>\n",
              "      <th>STL</th>\n",
              "      <th>...</th>\n",
              "      <th>TOV</th>\n",
              "      <th>PF</th>\n",
              "      <th>PTS</th>\n",
              "      <th>FG%</th>\n",
              "      <th>2P%</th>\n",
              "      <th>3P%</th>\n",
              "      <th>FT%</th>\n",
              "      <th>PER</th>\n",
              "      <th>WS</th>\n",
              "      <th>BPM</th>\n",
              "    </tr>\n",
              "  </thead>\n",
              "  <tbody>\n",
              "    <tr>\n",
              "      <th>0</th>\n",
              "      <td>1</td>\n",
              "      <td>Amaree Abram</td>\n",
              "      <td>SO</td>\n",
              "      <td>G</td>\n",
              "      <td>Georgia Tech</td>\n",
              "      <td>10</td>\n",
              "      <td>108</td>\n",
              "      <td>17</td>\n",
              "      <td>11</td>\n",
              "      <td>1</td>\n",
              "      <td>...</td>\n",
              "      <td>9</td>\n",
              "      <td>10</td>\n",
              "      <td>34</td>\n",
              "      <td>0.262</td>\n",
              "      <td>0.318</td>\n",
              "      <td>0.200</td>\n",
              "      <td>0.615</td>\n",
              "      <td>4.1</td>\n",
              "      <td>-0.1</td>\n",
              "      <td>-6.4</td>\n",
              "    </tr>\n",
              "    <tr>\n",
              "      <th>1</th>\n",
              "      <td>2</td>\n",
              "      <td>Sola Adebisi</td>\n",
              "      <td>FR</td>\n",
              "      <td>F</td>\n",
              "      <td>Florida State</td>\n",
              "      <td>7</td>\n",
              "      <td>9</td>\n",
              "      <td>1</td>\n",
              "      <td>1</td>\n",
              "      <td>0</td>\n",
              "      <td>...</td>\n",
              "      <td>1</td>\n",
              "      <td>1</td>\n",
              "      <td>2</td>\n",
              "      <td>0.500</td>\n",
              "      <td>0.500</td>\n",
              "      <td>NaN</td>\n",
              "      <td>NaN</td>\n",
              "      <td>3.5</td>\n",
              "      <td>0.0</td>\n",
              "      <td>-6.7</td>\n",
              "    </tr>\n",
              "    <tr>\n",
              "      <th>2</th>\n",
              "      <td>3</td>\n",
              "      <td>Prince Aligbe</td>\n",
              "      <td>SO</td>\n",
              "      <td>F</td>\n",
              "      <td>Boston College</td>\n",
              "      <td>35</td>\n",
              "      <td>651</td>\n",
              "      <td>119</td>\n",
              "      <td>21</td>\n",
              "      <td>15</td>\n",
              "      <td>...</td>\n",
              "      <td>30</td>\n",
              "      <td>51</td>\n",
              "      <td>164</td>\n",
              "      <td>0.435</td>\n",
              "      <td>0.522</td>\n",
              "      <td>0.147</td>\n",
              "      <td>0.620</td>\n",
              "      <td>9.4</td>\n",
              "      <td>0.9</td>\n",
              "      <td>-1.3</td>\n",
              "    </tr>\n",
              "    <tr>\n",
              "      <th>3</th>\n",
              "      <td>4</td>\n",
              "      <td>Abe Atiyeh</td>\n",
              "      <td>SR</td>\n",
              "      <td>G</td>\n",
              "      <td>Boston College</td>\n",
              "      <td>4</td>\n",
              "      <td>6</td>\n",
              "      <td>0</td>\n",
              "      <td>0</td>\n",
              "      <td>0</td>\n",
              "      <td>...</td>\n",
              "      <td>1</td>\n",
              "      <td>0</td>\n",
              "      <td>3</td>\n",
              "      <td>0.333</td>\n",
              "      <td>0.000</td>\n",
              "      <td>1.000</td>\n",
              "      <td>NaN</td>\n",
              "      <td>1.1</td>\n",
              "      <td>0.0</td>\n",
              "      <td>-8.2</td>\n",
              "    </tr>\n",
              "    <tr>\n",
              "      <th>4</th>\n",
              "      <td>5</td>\n",
              "      <td>Zack Austin</td>\n",
              "      <td>JR</td>\n",
              "      <td>F</td>\n",
              "      <td>Pittsburgh</td>\n",
              "      <td>33</td>\n",
              "      <td>746</td>\n",
              "      <td>137</td>\n",
              "      <td>29</td>\n",
              "      <td>32</td>\n",
              "      <td>...</td>\n",
              "      <td>13</td>\n",
              "      <td>35</td>\n",
              "      <td>216</td>\n",
              "      <td>0.417</td>\n",
              "      <td>0.563</td>\n",
              "      <td>0.295</td>\n",
              "      <td>0.737</td>\n",
              "      <td>18.0</td>\n",
              "      <td>2.9</td>\n",
              "      <td>7.9</td>\n",
              "    </tr>\n",
              "  </tbody>\n",
              "</table>\n",
              "<p>5 rows × 21 columns</p>\n",
              "</div>\n",
              "    <div class=\"colab-df-buttons\">\n",
              "\n",
              "  <div class=\"colab-df-container\">\n",
              "    <button class=\"colab-df-convert\" onclick=\"convertToInteractive('df-954ddcf7-4beb-4930-a602-b539cec65c43')\"\n",
              "            title=\"Convert this dataframe to an interactive table.\"\n",
              "            style=\"display:none;\">\n",
              "\n",
              "  <svg xmlns=\"http://www.w3.org/2000/svg\" height=\"24px\" viewBox=\"0 -960 960 960\">\n",
              "    <path d=\"M120-120v-720h720v720H120Zm60-500h600v-160H180v160Zm220 220h160v-160H400v160Zm0 220h160v-160H400v160ZM180-400h160v-160H180v160Zm440 0h160v-160H620v160ZM180-180h160v-160H180v160Zm440 0h160v-160H620v160Z\"/>\n",
              "  </svg>\n",
              "    </button>\n",
              "\n",
              "  <style>\n",
              "    .colab-df-container {\n",
              "      display:flex;\n",
              "      gap: 12px;\n",
              "    }\n",
              "\n",
              "    .colab-df-convert {\n",
              "      background-color: #E8F0FE;\n",
              "      border: none;\n",
              "      border-radius: 50%;\n",
              "      cursor: pointer;\n",
              "      display: none;\n",
              "      fill: #1967D2;\n",
              "      height: 32px;\n",
              "      padding: 0 0 0 0;\n",
              "      width: 32px;\n",
              "    }\n",
              "\n",
              "    .colab-df-convert:hover {\n",
              "      background-color: #E2EBFA;\n",
              "      box-shadow: 0px 1px 2px rgba(60, 64, 67, 0.3), 0px 1px 3px 1px rgba(60, 64, 67, 0.15);\n",
              "      fill: #174EA6;\n",
              "    }\n",
              "\n",
              "    .colab-df-buttons div {\n",
              "      margin-bottom: 4px;\n",
              "    }\n",
              "\n",
              "    [theme=dark] .colab-df-convert {\n",
              "      background-color: #3B4455;\n",
              "      fill: #D2E3FC;\n",
              "    }\n",
              "\n",
              "    [theme=dark] .colab-df-convert:hover {\n",
              "      background-color: #434B5C;\n",
              "      box-shadow: 0px 1px 3px 1px rgba(0, 0, 0, 0.15);\n",
              "      filter: drop-shadow(0px 1px 2px rgba(0, 0, 0, 0.3));\n",
              "      fill: #FFFFFF;\n",
              "    }\n",
              "  </style>\n",
              "\n",
              "    <script>\n",
              "      const buttonEl =\n",
              "        document.querySelector('#df-954ddcf7-4beb-4930-a602-b539cec65c43 button.colab-df-convert');\n",
              "      buttonEl.style.display =\n",
              "        google.colab.kernel.accessAllowed ? 'block' : 'none';\n",
              "\n",
              "      async function convertToInteractive(key) {\n",
              "        const element = document.querySelector('#df-954ddcf7-4beb-4930-a602-b539cec65c43');\n",
              "        const dataTable =\n",
              "          await google.colab.kernel.invokeFunction('convertToInteractive',\n",
              "                                                    [key], {});\n",
              "        if (!dataTable) return;\n",
              "\n",
              "        const docLinkHtml = 'Like what you see? Visit the ' +\n",
              "          '<a target=\"_blank\" href=https://colab.research.google.com/notebooks/data_table.ipynb>data table notebook</a>'\n",
              "          + ' to learn more about interactive tables.';\n",
              "        element.innerHTML = '';\n",
              "        dataTable['output_type'] = 'display_data';\n",
              "        await google.colab.output.renderOutput(dataTable, element);\n",
              "        const docLink = document.createElement('div');\n",
              "        docLink.innerHTML = docLinkHtml;\n",
              "        element.appendChild(docLink);\n",
              "      }\n",
              "    </script>\n",
              "  </div>\n",
              "\n",
              "\n",
              "<div id=\"df-0ff32c95-adbe-4310-8176-69713ebd4a4a\">\n",
              "  <button class=\"colab-df-quickchart\" onclick=\"quickchart('df-0ff32c95-adbe-4310-8176-69713ebd4a4a')\"\n",
              "            title=\"Suggest charts\"\n",
              "            style=\"display:none;\">\n",
              "\n",
              "<svg xmlns=\"http://www.w3.org/2000/svg\" height=\"24px\"viewBox=\"0 0 24 24\"\n",
              "     width=\"24px\">\n",
              "    <g>\n",
              "        <path d=\"M19 3H5c-1.1 0-2 .9-2 2v14c0 1.1.9 2 2 2h14c1.1 0 2-.9 2-2V5c0-1.1-.9-2-2-2zM9 17H7v-7h2v7zm4 0h-2V7h2v10zm4 0h-2v-4h2v4z\"/>\n",
              "    </g>\n",
              "</svg>\n",
              "  </button>\n",
              "\n",
              "<style>\n",
              "  .colab-df-quickchart {\n",
              "      --bg-color: #E8F0FE;\n",
              "      --fill-color: #1967D2;\n",
              "      --hover-bg-color: #E2EBFA;\n",
              "      --hover-fill-color: #174EA6;\n",
              "      --disabled-fill-color: #AAA;\n",
              "      --disabled-bg-color: #DDD;\n",
              "  }\n",
              "\n",
              "  [theme=dark] .colab-df-quickchart {\n",
              "      --bg-color: #3B4455;\n",
              "      --fill-color: #D2E3FC;\n",
              "      --hover-bg-color: #434B5C;\n",
              "      --hover-fill-color: #FFFFFF;\n",
              "      --disabled-bg-color: #3B4455;\n",
              "      --disabled-fill-color: #666;\n",
              "  }\n",
              "\n",
              "  .colab-df-quickchart {\n",
              "    background-color: var(--bg-color);\n",
              "    border: none;\n",
              "    border-radius: 50%;\n",
              "    cursor: pointer;\n",
              "    display: none;\n",
              "    fill: var(--fill-color);\n",
              "    height: 32px;\n",
              "    padding: 0;\n",
              "    width: 32px;\n",
              "  }\n",
              "\n",
              "  .colab-df-quickchart:hover {\n",
              "    background-color: var(--hover-bg-color);\n",
              "    box-shadow: 0 1px 2px rgba(60, 64, 67, 0.3), 0 1px 3px 1px rgba(60, 64, 67, 0.15);\n",
              "    fill: var(--button-hover-fill-color);\n",
              "  }\n",
              "\n",
              "  .colab-df-quickchart-complete:disabled,\n",
              "  .colab-df-quickchart-complete:disabled:hover {\n",
              "    background-color: var(--disabled-bg-color);\n",
              "    fill: var(--disabled-fill-color);\n",
              "    box-shadow: none;\n",
              "  }\n",
              "\n",
              "  .colab-df-spinner {\n",
              "    border: 2px solid var(--fill-color);\n",
              "    border-color: transparent;\n",
              "    border-bottom-color: var(--fill-color);\n",
              "    animation:\n",
              "      spin 1s steps(1) infinite;\n",
              "  }\n",
              "\n",
              "  @keyframes spin {\n",
              "    0% {\n",
              "      border-color: transparent;\n",
              "      border-bottom-color: var(--fill-color);\n",
              "      border-left-color: var(--fill-color);\n",
              "    }\n",
              "    20% {\n",
              "      border-color: transparent;\n",
              "      border-left-color: var(--fill-color);\n",
              "      border-top-color: var(--fill-color);\n",
              "    }\n",
              "    30% {\n",
              "      border-color: transparent;\n",
              "      border-left-color: var(--fill-color);\n",
              "      border-top-color: var(--fill-color);\n",
              "      border-right-color: var(--fill-color);\n",
              "    }\n",
              "    40% {\n",
              "      border-color: transparent;\n",
              "      border-right-color: var(--fill-color);\n",
              "      border-top-color: var(--fill-color);\n",
              "    }\n",
              "    60% {\n",
              "      border-color: transparent;\n",
              "      border-right-color: var(--fill-color);\n",
              "    }\n",
              "    80% {\n",
              "      border-color: transparent;\n",
              "      border-right-color: var(--fill-color);\n",
              "      border-bottom-color: var(--fill-color);\n",
              "    }\n",
              "    90% {\n",
              "      border-color: transparent;\n",
              "      border-bottom-color: var(--fill-color);\n",
              "    }\n",
              "  }\n",
              "</style>\n",
              "\n",
              "  <script>\n",
              "    async function quickchart(key) {\n",
              "      const quickchartButtonEl =\n",
              "        document.querySelector('#' + key + ' button');\n",
              "      quickchartButtonEl.disabled = true;  // To prevent multiple clicks.\n",
              "      quickchartButtonEl.classList.add('colab-df-spinner');\n",
              "      try {\n",
              "        const charts = await google.colab.kernel.invokeFunction(\n",
              "            'suggestCharts', [key], {});\n",
              "      } catch (error) {\n",
              "        console.error('Error during call to suggestCharts:', error);\n",
              "      }\n",
              "      quickchartButtonEl.classList.remove('colab-df-spinner');\n",
              "      quickchartButtonEl.classList.add('colab-df-quickchart-complete');\n",
              "    }\n",
              "    (() => {\n",
              "      let quickchartButtonEl =\n",
              "        document.querySelector('#df-0ff32c95-adbe-4310-8176-69713ebd4a4a button');\n",
              "      quickchartButtonEl.style.display =\n",
              "        google.colab.kernel.accessAllowed ? 'block' : 'none';\n",
              "    })();\n",
              "  </script>\n",
              "</div>\n",
              "\n",
              "    </div>\n",
              "  </div>\n"
            ],
            "application/vnd.google.colaboratory.intrinsic+json": {
              "type": "dataframe",
              "variable_name": "acc_players_df"
            }
          },
          "metadata": {},
          "execution_count": 10
        }
      ],
      "source": [
        "import pandas as pd\n",
        "\n",
        "# Load in CSV\n",
        "acc_players_df = pd.read_csv('acc_players-2324F.csv', encoding='latin-1', skiprows=1)\n",
        "\n",
        "print(\"2023-24 ACC basketball season:\", ' \\n')\n",
        "acc_players_df.head()"
      ]
    },
    {
      "cell_type": "markdown",
      "source": [
        "2. Basic Analysis:\n",
        "- Calculate the total points scored by all players combined.\n",
        "- Find the player who has played the most minutes (MP).\n",
        "- Identify the top 5 players in terms of total rebounds (TRB)"
      ],
      "metadata": {
        "id": "m5Q6gGIYyhmQ"
      }
    },
    {
      "cell_type": "code",
      "source": [
        "# Calculate total points scored by all players\n",
        "total_points = acc_players_df['PTS'].sum()\n",
        "\n",
        "print(\"Total points scored by all players:\", total_points)"
      ],
      "metadata": {
        "colab": {
          "base_uri": "https://localhost:8080/"
        },
        "id": "7o078b2v1pFx",
        "outputId": "d4a2af52-b5ec-4c7d-e4eb-85aa49825cea"
      },
      "execution_count": 17,
      "outputs": [
        {
          "output_type": "stream",
          "name": "stdout",
          "text": [
            "Total points scored by all players: 38411\n"
          ]
        }
      ]
    },
    {
      "cell_type": "code",
      "source": [
        "# Find the player who has played the most minutes (MP)\n",
        "player_with_most_minutes = acc_players_df[['Player', 'MP']].sort_values(by='MP', ascending=False).head(1)\n",
        "\n",
        "print(\"Player with the most minutes played:\", '\\n')\n",
        "print(player_with_most_minutes[['Player', 'MP']])\n"
      ],
      "metadata": {
        "colab": {
          "base_uri": "https://localhost:8080/"
        },
        "id": "VR5dBZS11hqx",
        "outputId": "d337b7b6-8771-4cf4-da7a-dbd02f6fe3f5"
      },
      "execution_count": 25,
      "outputs": [
        {
          "output_type": "stream",
          "name": "stdout",
          "text": [
            "Player with the most minutes played: \n",
            "\n",
            "            Player    MP\n",
            "135  Casey Morsell  1333\n"
          ]
        }
      ]
    },
    {
      "cell_type": "code",
      "source": [
        "# Identify the top 5 players in terms of total rebounds (TRB)\n",
        "top_5_rebounds = acc_players_df[['Player', 'TRB']].sort_values(by=\"TRB\", ascending=False).head(5)\n",
        "print(\"Top 5 players in terms of total rebounds: \\n\")\n",
        "print(top_5_rebounds)\n",
        "print(\"\\n\")"
      ],
      "metadata": {
        "colab": {
          "base_uri": "https://localhost:8080/"
        },
        "id": "fT8WpzO-1s8h",
        "outputId": "38f67b76-78d2-4cdb-fd8c-050280f8b7e9"
      },
      "execution_count": 20,
      "outputs": [
        {
          "output_type": "stream",
          "name": "stdout",
          "text": [
            "Top 5 players in terms of total rebounds: \n",
            "\n",
            "              Player  TRB\n",
            "5      Armando Bacot  380\n",
            "178  Ian Schieffelin  340\n",
            "90   Harrison Ingram  327\n",
            "44    Mohamed Diarra  311\n",
            "149    Norchad Omier  309\n",
            "\n",
            "\n"
          ]
        }
      ]
    },
    {
      "cell_type": "markdown",
      "source": [
        "3. Player Filtering:\n",
        "- Create a new DataFrame containing only players who played more than 500 minutes.\n",
        "- From this filtered DataFrame, determine the player with the highest total assists (AST).\n",
        "- Who are the top 3 Assist Leads in the League?\n",
        "- Who are the top 3 Shot Blockers?"
      ],
      "metadata": {
        "id": "-g2r09zQ2O8g"
      }
    },
    {
      "cell_type": "code",
      "source": [
        "# new Dataframe with players who played > 500 minutes\n",
        "filtered_df = acc_players_df[acc_players_df['MP'] > 500]\n",
        "#print(\"Players who played more than 500 minutes: \\n\")\n",
        "#print(filtered_df.head())\n",
        "\n",
        "# player with highest total assists\n",
        "highest_ast = filtered_df[['Player', 'AST']].sort_values(by='AST', ascending=False).head(1)\n",
        "print(\"Player with the highest total assists (AST): \\n\")\n",
        "print(highest_ast)"
      ],
      "metadata": {
        "colab": {
          "base_uri": "https://localhost:8080/"
        },
        "id": "ThIDi4H72Qw_",
        "outputId": "49e193da-6c3c-4e99-cc8c-254b05f434fd"
      },
      "execution_count": 24,
      "outputs": [
        {
          "output_type": "stream",
          "name": "stdout",
          "text": [
            "Player with the highest total assists (AST): \n",
            "\n",
            "          Player  AST\n",
            "7  Reece Beekman  212\n"
          ]
        }
      ]
    },
    {
      "cell_type": "code",
      "source": [
        "# top 3 assist leads in the league\n",
        "top_3_assist_leads = acc_players_df[['Player', 'AST']].sort_values(by='AST', ascending=False).head(3)\n",
        "print(\"Top 3 assist leads in the league: \\n\")\n",
        "print(top_3_assist_leads)"
      ],
      "metadata": {
        "colab": {
          "base_uri": "https://localhost:8080/"
        },
        "id": "wOvbQymY3D49",
        "outputId": "90f6c036-6536-45c9-d9b6-64233acd940f"
      },
      "execution_count": 26,
      "outputs": [
        {
          "output_type": "stream",
          "name": "stdout",
          "text": [
            "Top 3 assist leads in the league: \n",
            "\n",
            "             Player  AST\n",
            "7     Reece Beekman  212\n",
            "215  Jaeden Zackery  152\n",
            "21    Elliot Cadeau  150\n"
          ]
        }
      ]
    },
    {
      "cell_type": "code",
      "source": [
        "# Who are the top 3 Shot Blockers?\n",
        "top_3_shot_blockers = acc_players_df[['Player', 'BLK']].sort_values(by='BLK', ascending=False).head(3)\n",
        "print(\"Top 3 shot blockers: \\n\")\n",
        "print(top_3_shot_blockers)"
      ],
      "metadata": {
        "colab": {
          "base_uri": "https://localhost:8080/"
        },
        "id": "joKL_ng33w6a",
        "outputId": "229bae39-9689-4a17-ee34-e138e77375e0"
      },
      "execution_count": 27,
      "outputs": [
        {
          "output_type": "stream",
          "name": "stdout",
          "text": [
            "Top 3 shot blockers: \n",
            "\n",
            "            Player  BLK\n",
            "51       Ryan Dunn   77\n",
            "157   Quinten Post   61\n",
            "5    Armando Bacot   56\n"
          ]
        }
      ]
    },
    {
      "cell_type": "markdown",
      "source": [
        "4. School-Based Analysis:\n",
        "- Group the players by School and calculate the total points scored by each school.\n",
        "- Group the players by School and calculate the total assists (AST) for each team.\n",
        "- Sort the schools by total points scored and display the top 3 schools"
      ],
      "metadata": {
        "id": "GwEyTuyz4Ksf"
      }
    },
    {
      "cell_type": "code",
      "source": [
        "# Group the players by School and calculate the total points scored by each school.\n",
        "\n",
        "school_points = acc_players_df.groupby('School')['PTS'].sum()\n",
        "\n",
        "print(\"Total points scored by each school: \\n\")\n",
        "print(school_points)"
      ],
      "metadata": {
        "colab": {
          "base_uri": "https://localhost:8080/"
        },
        "id": "-XLGNh1X4LkT",
        "outputId": "5f61c3a8-888e-4170-ea07-866d9debd5f5"
      },
      "execution_count": 28,
      "outputs": [
        {
          "output_type": "stream",
          "name": "stdout",
          "text": [
            "Total points scored by each school: \n",
            "\n",
            "School\n",
            "Boston College    2667\n",
            "Clemson           2785\n",
            "Duke              2830\n",
            "Florida State     2526\n",
            "Georgia Tech      2272\n",
            "Louisville        2304\n",
            "Miami (FL)        2424\n",
            "NC State          3101\n",
            "North Carolina    3032\n",
            "Notre Dame        2113\n",
            "Pittsburgh        2495\n",
            "Syracuse          2442\n",
            "Virginia          2140\n",
            "Virginia Tech     2547\n",
            "Wake Forest       2733\n",
            "Name: PTS, dtype: int64\n"
          ]
        }
      ]
    },
    {
      "cell_type": "code",
      "source": [
        "# Group the players by School and calculate the total assists (AST) for each team.\n",
        "\n",
        "school_assists = acc_players_df.groupby('School')['AST'].sum()\n",
        "\n",
        "print(\"Total assists (AST) for each team: \\n\")\n",
        "print(school_assists)"
      ],
      "metadata": {
        "colab": {
          "base_uri": "https://localhost:8080/"
        },
        "id": "TiUdXmV74NnU",
        "outputId": "53f52712-fc67-47b9-c725-75c5fed6f64a"
      },
      "execution_count": 29,
      "outputs": [
        {
          "output_type": "stream",
          "name": "stdout",
          "text": [
            "Total assists (AST) for each team: \n",
            "\n",
            "School\n",
            "Boston College    509\n",
            "Clemson           533\n",
            "Duke              551\n",
            "Florida State     406\n",
            "Georgia Tech      425\n",
            "Louisville        356\n",
            "Miami (FL)        454\n",
            "NC State          536\n",
            "North Carolina    536\n",
            "Notre Dame        335\n",
            "Pittsburgh        452\n",
            "Syracuse          442\n",
            "Virginia          509\n",
            "Virginia Tech     514\n",
            "Wake Forest       429\n",
            "Name: AST, dtype: int64\n"
          ]
        }
      ]
    },
    {
      "cell_type": "code",
      "source": [
        "# Sort the schools by total points scored and display the top 3 schools\n",
        "\n",
        "top_three_schools = acc_players_df.groupby('School')['PTS'].sum().sort_values(ascending=False).head(3)\n",
        "\n",
        "print(\"Top 3 schools by total points scored: \\n\")\n",
        "print(top_three_schools)"
      ],
      "metadata": {
        "colab": {
          "base_uri": "https://localhost:8080/"
        },
        "id": "MqmwIQSI4PYr",
        "outputId": "4ef8f29d-f866-4c88-da80-863e9aac0e92"
      },
      "execution_count": 30,
      "outputs": [
        {
          "output_type": "stream",
          "name": "stdout",
          "text": [
            "Top 3 schools by total points scored: \n",
            "\n",
            "School\n",
            "NC State          3101\n",
            "North Carolina    3032\n",
            "Duke              2830\n",
            "Name: PTS, dtype: int64\n"
          ]
        }
      ]
    },
    {
      "cell_type": "markdown",
      "source": [
        "5. Extra Credit (Bonus):\n",
        "- Create a bar chart showing the top 5 players by total points scored (PTS).\n",
        "- Correlation: Investigate whether there is any correlation between a player's field goal\n",
        "percentage (FG%) and their win shares (WS). Provide a scatter plot and calculate the\n",
        "correlation coefficient."
      ],
      "metadata": {
        "id": "2LALXCz_4m8v"
      }
    },
    {
      "cell_type": "code",
      "source": [
        "# Create a bar chart showing the top 5 players by total points scored (PTS).\n",
        "import matplotlib.pyplot as plt\n",
        "import seaborn as sns\n",
        "\n",
        "top_5_players = acc_players_df[['Player', 'PTS']].sort_values(by='PTS', ascending=False).head(5)\n",
        "\n",
        "plt.figure(figsize=(10, 6))\n",
        "sns.barplot(x='PTS', y = 'Player', data = top_5_players)\n",
        "plt.title('Top 5 Players by Total Points (PTS)')\n",
        "plt.xlabel('Total Points')\n",
        "plt.ylabel('Player')\n",
        "plt.show()"
      ],
      "metadata": {
        "colab": {
          "base_uri": "https://localhost:8080/",
          "height": 564
        },
        "id": "OD7KqMDI4ntk",
        "outputId": "57cd0148-96a1-4a71-d281-de3d6002cf98"
      },
      "execution_count": 31,
      "outputs": [
        {
          "output_type": "display_data",
          "data": {
            "text/plain": [
              "<Figure size 1000x600 with 1 Axes>"
            ],
            "image/png": "[encoded data removed]"
          },
          "metadata": {}
        }
      ]
    },
    {
      "cell_type": "code",
      "source": [
        "# Correlation: Investigate whether there is any correlation between a player's\n",
        "# field goal percentage (FG%) and their win shares (WS). Provide a scatter plot\n",
        "# and calculate the correlation coefficient.\n",
        "\n",
        "correlation = acc_players_df['FG%'].corr(acc_players_df['WS'])\n",
        "\n",
        "plt.scatter(acc_players_df['FG%'], acc_players_df['WS'])\n",
        "plt.title('Field Goal Percentage vs. Win Shares')\n",
        "plt.xlabel('Field Goal Percentage')\n",
        "plt.ylabel('Win Shares')\n",
        "plt.show()\n",
        "\n",
        "print(\"Correlation coefficient between FG% and WS:\", correlation)\n"
      ],
      "metadata": {
        "colab": {
          "base_uri": "https://localhost:8080/",
          "height": 489
        },
        "id": "nF1sHYt-5Fy8",
        "outputId": "df33ecd7-4296-4458-d9ed-7c0049475b8d"
      },
      "execution_count": 34,
      "outputs": [
        {
          "output_type": "display_data",
          "data": {
            "text/plain": [
              "<Figure size 640x480 with 1 Axes>"
            ],
            "image/png": "[encoded data removed]"
          },
          "metadata": {}
        },
        {
          "output_type": "stream",
          "name": "stdout",
          "text": [
            "Correlation coefficient between FG% and WS: 0.4210663894199787\n"
          ]
        }
      ]
    },
    {
      "cell_type": "markdown",
      "source": [
        "# Paragraph Reflection\n",
        "\n",
        "This assignment helped develop my skills in reading in and filtering diverse sets of data using Pandas. The two CSV's that we had worked on for the lab were similar, but required a different approach for some of the queries. These skills are highly relevant in data analysis generally, but in specific projects, are essential for querying data for any specific subset of information. Reading in CSV's using Pandas in the lab and in this assignment helped to build a strong foundation for more complex queries in the future as well with potentially more complicated dataframes.\n",
        "\n",
        "What I found to be the most challenging aspect of this assignment was creating the scatterplot and finding the correlation coefficient using the matplotlib library. However, by looking up examples and looking through different tutorials, I understood the process better and was able to apply it to the Field Goal Percentages and Win Shares in the dataset. The resource that I used is from [\"Matplotlib Scatter\"](https://www.w3schools.com/python/matplotlib_scatter.asp).\n",
        "I also found it difficult to translate some of the basketball terms to their representations in the CSV file; however, I resolved the confusion by researching the common abbreviations for the specific terms.\n",
        "\n",
        "The insights I gained from analyzing ACC basketball statistics can be utilized in different datasets that are a part of each and every industry. The abililities to read, filter, and manipulate data are all crucial for overcoming data science challenges. Whether the challenge is to unify a decentralized dataset or to tidy up a disorganized, inconsistent dataset, having a good understanding of these tools is important to solving it and preventing any future data inconveniences. This experience overall has prepared me for future data science challenges by enhancing my understanding of the basics and preparing me for more complex analyses like data transformations and optimization."
      ],
      "metadata": {
        "id": "tpnriuME6AVt"
      }
    }
  ]
}